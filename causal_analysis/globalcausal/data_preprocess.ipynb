{
 "cells": [
  {
   "cell_type": "code",
   "execution_count": 23,
   "metadata": {
    "collapsed": true
   },
   "outputs": [],
   "source": [
    "import numpy as np\n",
    "import pandas as pd\n",
    "import pickle\n",
    "import datetime\n",
    "import matplotlib.pyplot as plt\n",
    "import scipy.stats as stats\n",
    "import seaborn as sns\n",
    "import re"
   ]
  },
  {
   "cell_type": "code",
   "execution_count": 5,
   "outputs": [
    {
     "name": "stderr",
     "output_type": "stream",
     "text": [
      "C:\\Users\\Administrator\\AppData\\Local\\Programs\\Python\\Python39\\lib\\site-packages\\IPython\\core\\interactiveshell.py:3308: DtypeWarning: Columns (0,2) have mixed types.Specify dtype option on import or set low_memory=False.\n",
      "  has_raised = await self.run_ast_nodes(code_ast.body, cell_name,\n"
     ]
    }
   ],
   "source": [
    "node_list = np.load('./node_list.npy')\n",
    "geo_meta_info = pd.read_csv('./geo_meta_info.csv', sep='\\t')\n",
    "meta_info = pd.read_csv('./meta_info.csv', sep='\\t')\n",
    "df_incident = pd.read_csv('./incidents_processed.csv', sep='\\t')"
   ],
   "metadata": {
    "collapsed": false
   }
  },
  {
   "cell_type": "code",
   "execution_count": 6,
   "outputs": [
    {
     "data": {
      "text/plain": "          Fwy  District   County           City  CA PM  Abs PM  Length  \\\n0       SR1-N        12   Orange            NaN  12.39  12.401   2.695   \n1       SR1-N        12   Orange            NaN  12.78  12.791   0.485   \n2       SR1-N        12   Orange            NaN  13.36  13.371   1.825   \n3       SR1-N        12   Orange  Newport Beach  16.43  16.441   1.825   \n4       SR1-N        12   Orange  Newport Beach  17.01  17.021   0.595   \n...       ...       ...      ...            ...    ...     ...     ...   \n18698  I980-W         4  Alameda        Oakland    .98   0.971     NaN   \n18699  I980-W         4  Alameda        Oakland    .98   0.971   0.305   \n18700  I980-W         4  Alameda        Oakland   1.31   1.301   0.320   \n18701  I980-W         4  Alameda        Oakland   1.62   1.611     NaN   \n18702  I980-W         4  Alameda        Oakland   1.62   1.611   0.571   \n\n            ID                 Name  Lanes      Type Sensor Type HOV  MS ID  \\\n0      1221176        REEF POINT DR      1  Mainline         NaN  No    lue   \n1      1221170      CRYSTAL HEIGHTS      1  Mainline         NaN  No   2553   \n2      1221163     1 NB LOS TRANCOS      1  Mainline         NaN  No   2552   \n3      1221148     1 NB AVOCADO AVE      1  Mainline         NaN  No   2551   \n4      1221143  1 NB IRVINE TERRACE      1  Mainline         NaN  No   2550   \n...        ...                  ...    ...       ...         ...  ..    ...   \n18698   408594          18th St off      3  Off Ramp       loops  No  DT908   \n18699   401610         14th/18th St      4  Mainline       loops  No  DT908   \n18700   401416              23rd St      5  Mainline       loops  No  DT413   \n18701   401912          29th street      3   Fwy-Fwy       loops  No  DT415   \n18702   401911          29th Street      3  Mainline       loops  No  DT415   \n\n                     IRM  \n0                    NaN  \n1                    NaN  \n2                    NaN  \n3                    NaN  \n4                    NaN  \n...                  ...  \n18698  z3-W-33-980-00098  \n18699  L4-W-33-980-00098  \n18700  L5-W-33-980-00131  \n18701  C3-W-33-980-00162  \n18702  L3-W-33-980-00162  \n\n[18703 rows x 15 columns]",
      "text/html": "<div>\n<style scoped>\n    .dataframe tbody tr th:only-of-type {\n        vertical-align: middle;\n    }\n\n    .dataframe tbody tr th {\n        vertical-align: top;\n    }\n\n    .dataframe thead th {\n        text-align: right;\n    }\n</style>\n<table border=\"1\" class=\"dataframe\">\n  <thead>\n    <tr style=\"text-align: right;\">\n      <th></th>\n      <th>Fwy</th>\n      <th>District</th>\n      <th>County</th>\n      <th>City</th>\n      <th>CA PM</th>\n      <th>Abs PM</th>\n      <th>Length</th>\n      <th>ID</th>\n      <th>Name</th>\n      <th>Lanes</th>\n      <th>Type</th>\n      <th>Sensor Type</th>\n      <th>HOV</th>\n      <th>MS ID</th>\n      <th>IRM</th>\n    </tr>\n  </thead>\n  <tbody>\n    <tr>\n      <th>0</th>\n      <td>SR1-N</td>\n      <td>12</td>\n      <td>Orange</td>\n      <td>NaN</td>\n      <td>12.39</td>\n      <td>12.401</td>\n      <td>2.695</td>\n      <td>1221176</td>\n      <td>REEF POINT DR</td>\n      <td>1</td>\n      <td>Mainline</td>\n      <td>NaN</td>\n      <td>No</td>\n      <td>lue</td>\n      <td>NaN</td>\n    </tr>\n    <tr>\n      <th>1</th>\n      <td>SR1-N</td>\n      <td>12</td>\n      <td>Orange</td>\n      <td>NaN</td>\n      <td>12.78</td>\n      <td>12.791</td>\n      <td>0.485</td>\n      <td>1221170</td>\n      <td>CRYSTAL HEIGHTS</td>\n      <td>1</td>\n      <td>Mainline</td>\n      <td>NaN</td>\n      <td>No</td>\n      <td>2553</td>\n      <td>NaN</td>\n    </tr>\n    <tr>\n      <th>2</th>\n      <td>SR1-N</td>\n      <td>12</td>\n      <td>Orange</td>\n      <td>NaN</td>\n      <td>13.36</td>\n      <td>13.371</td>\n      <td>1.825</td>\n      <td>1221163</td>\n      <td>1 NB LOS TRANCOS</td>\n      <td>1</td>\n      <td>Mainline</td>\n      <td>NaN</td>\n      <td>No</td>\n      <td>2552</td>\n      <td>NaN</td>\n    </tr>\n    <tr>\n      <th>3</th>\n      <td>SR1-N</td>\n      <td>12</td>\n      <td>Orange</td>\n      <td>Newport Beach</td>\n      <td>16.43</td>\n      <td>16.441</td>\n      <td>1.825</td>\n      <td>1221148</td>\n      <td>1 NB AVOCADO AVE</td>\n      <td>1</td>\n      <td>Mainline</td>\n      <td>NaN</td>\n      <td>No</td>\n      <td>2551</td>\n      <td>NaN</td>\n    </tr>\n    <tr>\n      <th>4</th>\n      <td>SR1-N</td>\n      <td>12</td>\n      <td>Orange</td>\n      <td>Newport Beach</td>\n      <td>17.01</td>\n      <td>17.021</td>\n      <td>0.595</td>\n      <td>1221143</td>\n      <td>1 NB IRVINE TERRACE</td>\n      <td>1</td>\n      <td>Mainline</td>\n      <td>NaN</td>\n      <td>No</td>\n      <td>2550</td>\n      <td>NaN</td>\n    </tr>\n    <tr>\n      <th>...</th>\n      <td>...</td>\n      <td>...</td>\n      <td>...</td>\n      <td>...</td>\n      <td>...</td>\n      <td>...</td>\n      <td>...</td>\n      <td>...</td>\n      <td>...</td>\n      <td>...</td>\n      <td>...</td>\n      <td>...</td>\n      <td>...</td>\n      <td>...</td>\n      <td>...</td>\n    </tr>\n    <tr>\n      <th>18698</th>\n      <td>I980-W</td>\n      <td>4</td>\n      <td>Alameda</td>\n      <td>Oakland</td>\n      <td>.98</td>\n      <td>0.971</td>\n      <td>NaN</td>\n      <td>408594</td>\n      <td>18th St off</td>\n      <td>3</td>\n      <td>Off Ramp</td>\n      <td>loops</td>\n      <td>No</td>\n      <td>DT908</td>\n      <td>z3-W-33-980-00098</td>\n    </tr>\n    <tr>\n      <th>18699</th>\n      <td>I980-W</td>\n      <td>4</td>\n      <td>Alameda</td>\n      <td>Oakland</td>\n      <td>.98</td>\n      <td>0.971</td>\n      <td>0.305</td>\n      <td>401610</td>\n      <td>14th/18th St</td>\n      <td>4</td>\n      <td>Mainline</td>\n      <td>loops</td>\n      <td>No</td>\n      <td>DT908</td>\n      <td>L4-W-33-980-00098</td>\n    </tr>\n    <tr>\n      <th>18700</th>\n      <td>I980-W</td>\n      <td>4</td>\n      <td>Alameda</td>\n      <td>Oakland</td>\n      <td>1.31</td>\n      <td>1.301</td>\n      <td>0.320</td>\n      <td>401416</td>\n      <td>23rd St</td>\n      <td>5</td>\n      <td>Mainline</td>\n      <td>loops</td>\n      <td>No</td>\n      <td>DT413</td>\n      <td>L5-W-33-980-00131</td>\n    </tr>\n    <tr>\n      <th>18701</th>\n      <td>I980-W</td>\n      <td>4</td>\n      <td>Alameda</td>\n      <td>Oakland</td>\n      <td>1.62</td>\n      <td>1.611</td>\n      <td>NaN</td>\n      <td>401912</td>\n      <td>29th street</td>\n      <td>3</td>\n      <td>Fwy-Fwy</td>\n      <td>loops</td>\n      <td>No</td>\n      <td>DT415</td>\n      <td>C3-W-33-980-00162</td>\n    </tr>\n    <tr>\n      <th>18702</th>\n      <td>I980-W</td>\n      <td>4</td>\n      <td>Alameda</td>\n      <td>Oakland</td>\n      <td>1.62</td>\n      <td>1.611</td>\n      <td>0.571</td>\n      <td>401911</td>\n      <td>29th Street</td>\n      <td>3</td>\n      <td>Mainline</td>\n      <td>loops</td>\n      <td>No</td>\n      <td>DT415</td>\n      <td>L3-W-33-980-00162</td>\n    </tr>\n  </tbody>\n</table>\n<p>18703 rows × 15 columns</p>\n</div>"
     },
     "execution_count": 6,
     "metadata": {},
     "output_type": "execute_result"
    }
   ],
   "source": [
    "meta_info"
   ],
   "metadata": {
    "collapsed": false
   }
  },
  {
   "cell_type": "code",
   "execution_count": 7,
   "outputs": [
    {
     "data": {
      "text/plain": "       Incident Id        Start Time Duration (mins)  Freeway   CA PM  Abs PM  \\\n0         21379205  01/03/2023 13:23              61   SR51-N     4.8     4.8   \n1         21379238  01/03/2023 13:52               4   I580-E   9.816    26.0   \n2         21379243  01/03/2023 13:21             379    I80-E   0.454    13.8   \n3         21379245  01/03/2023 13:12             104    I80-W    4.79    10.1   \n4         21379247  01/03/2023 12:38              60  US101-S   1.169   429.5   \n...            ...               ...             ...      ...     ...     ...   \n477571    22105233    12/31/23 22:56               0     I8-W  R4.757    82.1   \n477572    22105662   01/01/2024 6:26             703    I15-S  44.522   152.4   \n477573    22105705   01/01/2024 7:32               7   SR17-S   0.047    12.6   \n477574    22105828  01/01/2024 10:05               0     I8-W  R4.757    82.1   \n477575    22106147  01/01/2024 15:05               0     I8-W  R4.757    82.1   \n\n       Source               AREA                      LOCATION  \\\n0         CHP          North Sac  El Camino Ave E Onr / Sr51 N   \n1         CHP             Dublin         I580 E / Vasco Rd Ofr   \n2         CHP            Oakland       I80 E / Central Ave Onr   \n3         CHP            Oakland      I80 W / I80 W SR13 S CON   \n4         CHP  San Francisco FSP        Us101 S / Paul Ave Ofr   \n...       ...                ...                           ...   \n477571    CHP          El Centro                        0 I8 W   \n477572    CHP        Victorville     I15 S / Stoddard Wells Rd   \n477573    CHP         Santa Cruz               Sr17 S / Summit   \n477574    CHP          El Centro                        0 I8 W   \n477575    CHP          El Centro                        0 I8 W   \n\n                          DESCRIPTION      type  nearest_node  \n0       20002-Hit and Run No Injuries  accident        312807  \n1          1182-Trfc Collision-No Inj  accident        418342  \n2        1183-Trfc Collision-Unkn Inj  accident        407260  \n3       20002-Hit and Run No Injuries  accident        400691  \n4          1182-Trfc Collision-No Inj  accident        403092  \n...                               ...       ...           ...  \n477571   1013-Road/Weather Conditions   weather       1113364  \n477572   1013-Road/Weather Conditions   weather        820894  \n477573   1013-Road/Weather Conditions   weather        405586  \n477574   1013-Road/Weather Conditions   weather       1113364  \n477575   1013-Road/Weather Conditions   weather       1113364  \n\n[477576 rows x 12 columns]",
      "text/html": "<div>\n<style scoped>\n    .dataframe tbody tr th:only-of-type {\n        vertical-align: middle;\n    }\n\n    .dataframe tbody tr th {\n        vertical-align: top;\n    }\n\n    .dataframe thead th {\n        text-align: right;\n    }\n</style>\n<table border=\"1\" class=\"dataframe\">\n  <thead>\n    <tr style=\"text-align: right;\">\n      <th></th>\n      <th>Incident Id</th>\n      <th>Start Time</th>\n      <th>Duration (mins)</th>\n      <th>Freeway</th>\n      <th>CA PM</th>\n      <th>Abs PM</th>\n      <th>Source</th>\n      <th>AREA</th>\n      <th>LOCATION</th>\n      <th>DESCRIPTION</th>\n      <th>type</th>\n      <th>nearest_node</th>\n    </tr>\n  </thead>\n  <tbody>\n    <tr>\n      <th>0</th>\n      <td>21379205</td>\n      <td>01/03/2023 13:23</td>\n      <td>61</td>\n      <td>SR51-N</td>\n      <td>4.8</td>\n      <td>4.8</td>\n      <td>CHP</td>\n      <td>North Sac</td>\n      <td>El Camino Ave E Onr / Sr51 N</td>\n      <td>20002-Hit and Run No Injuries</td>\n      <td>accident</td>\n      <td>312807</td>\n    </tr>\n    <tr>\n      <th>1</th>\n      <td>21379238</td>\n      <td>01/03/2023 13:52</td>\n      <td>4</td>\n      <td>I580-E</td>\n      <td>9.816</td>\n      <td>26.0</td>\n      <td>CHP</td>\n      <td>Dublin</td>\n      <td>I580 E / Vasco Rd Ofr</td>\n      <td>1182-Trfc Collision-No Inj</td>\n      <td>accident</td>\n      <td>418342</td>\n    </tr>\n    <tr>\n      <th>2</th>\n      <td>21379243</td>\n      <td>01/03/2023 13:21</td>\n      <td>379</td>\n      <td>I80-E</td>\n      <td>0.454</td>\n      <td>13.8</td>\n      <td>CHP</td>\n      <td>Oakland</td>\n      <td>I80 E / Central Ave Onr</td>\n      <td>1183-Trfc Collision-Unkn Inj</td>\n      <td>accident</td>\n      <td>407260</td>\n    </tr>\n    <tr>\n      <th>3</th>\n      <td>21379245</td>\n      <td>01/03/2023 13:12</td>\n      <td>104</td>\n      <td>I80-W</td>\n      <td>4.79</td>\n      <td>10.1</td>\n      <td>CHP</td>\n      <td>Oakland</td>\n      <td>I80 W / I80 W SR13 S CON</td>\n      <td>20002-Hit and Run No Injuries</td>\n      <td>accident</td>\n      <td>400691</td>\n    </tr>\n    <tr>\n      <th>4</th>\n      <td>21379247</td>\n      <td>01/03/2023 12:38</td>\n      <td>60</td>\n      <td>US101-S</td>\n      <td>1.169</td>\n      <td>429.5</td>\n      <td>CHP</td>\n      <td>San Francisco FSP</td>\n      <td>Us101 S / Paul Ave Ofr</td>\n      <td>1182-Trfc Collision-No Inj</td>\n      <td>accident</td>\n      <td>403092</td>\n    </tr>\n    <tr>\n      <th>...</th>\n      <td>...</td>\n      <td>...</td>\n      <td>...</td>\n      <td>...</td>\n      <td>...</td>\n      <td>...</td>\n      <td>...</td>\n      <td>...</td>\n      <td>...</td>\n      <td>...</td>\n      <td>...</td>\n      <td>...</td>\n    </tr>\n    <tr>\n      <th>477571</th>\n      <td>22105233</td>\n      <td>12/31/23 22:56</td>\n      <td>0</td>\n      <td>I8-W</td>\n      <td>R4.757</td>\n      <td>82.1</td>\n      <td>CHP</td>\n      <td>El Centro</td>\n      <td>0 I8 W</td>\n      <td>1013-Road/Weather Conditions</td>\n      <td>weather</td>\n      <td>1113364</td>\n    </tr>\n    <tr>\n      <th>477572</th>\n      <td>22105662</td>\n      <td>01/01/2024 6:26</td>\n      <td>703</td>\n      <td>I15-S</td>\n      <td>44.522</td>\n      <td>152.4</td>\n      <td>CHP</td>\n      <td>Victorville</td>\n      <td>I15 S / Stoddard Wells Rd</td>\n      <td>1013-Road/Weather Conditions</td>\n      <td>weather</td>\n      <td>820894</td>\n    </tr>\n    <tr>\n      <th>477573</th>\n      <td>22105705</td>\n      <td>01/01/2024 7:32</td>\n      <td>7</td>\n      <td>SR17-S</td>\n      <td>0.047</td>\n      <td>12.6</td>\n      <td>CHP</td>\n      <td>Santa Cruz</td>\n      <td>Sr17 S / Summit</td>\n      <td>1013-Road/Weather Conditions</td>\n      <td>weather</td>\n      <td>405586</td>\n    </tr>\n    <tr>\n      <th>477574</th>\n      <td>22105828</td>\n      <td>01/01/2024 10:05</td>\n      <td>0</td>\n      <td>I8-W</td>\n      <td>R4.757</td>\n      <td>82.1</td>\n      <td>CHP</td>\n      <td>El Centro</td>\n      <td>0 I8 W</td>\n      <td>1013-Road/Weather Conditions</td>\n      <td>weather</td>\n      <td>1113364</td>\n    </tr>\n    <tr>\n      <th>477575</th>\n      <td>22106147</td>\n      <td>01/01/2024 15:05</td>\n      <td>0</td>\n      <td>I8-W</td>\n      <td>R4.757</td>\n      <td>82.1</td>\n      <td>CHP</td>\n      <td>El Centro</td>\n      <td>0 I8 W</td>\n      <td>1013-Road/Weather Conditions</td>\n      <td>weather</td>\n      <td>1113364</td>\n    </tr>\n  </tbody>\n</table>\n<p>477576 rows × 12 columns</p>\n</div>"
     },
     "execution_count": 7,
     "metadata": {},
     "output_type": "execute_result"
    }
   ],
   "source": [
    "df_incident"
   ],
   "metadata": {
    "collapsed": false
   }
  },
  {
   "cell_type": "code",
   "execution_count": 8,
   "outputs": [
    {
     "data": {
      "text/plain": "       Unnamed: 0 Road Width Lane Width Inner Shoulder Width  \\\n0               0      56 ft    11.2 ft                 2 ft   \n1               1      48 ft    12.0 ft                 8 ft   \n2               2      55 ft    11.0 ft                 3 ft   \n3               3      12 ft    12.0 ft                 1 ft   \n4               4      48 ft    12.0 ft                 5 ft   \n...           ...        ...        ...                  ...   \n18698       19500      24 ft    12.0 ft                 5 ft   \n18699       19501        NaN        NaN                  NaN   \n18700       19502      48 ft    12.0 ft                 8 ft   \n18701       19503        NaN        NaN                  NaN   \n18702       19504      40 ft    13.3 ft                10 ft   \n\n      Inner Shoulder Treated Width Outer Shoulder Width  \\\n0                             2 ft                10 ft   \n1                             8 ft                10 ft   \n2                             3 ft                10 ft   \n3                             1 ft                 8 ft   \n4                             5 ft                10 ft   \n...                            ...                  ...   \n18698                         5 ft                 8 ft   \n18699                          NaN                  NaN   \n18700                         8 ft                10 ft   \n18701                          NaN                  NaN   \n18702                        10 ft                10 ft   \n\n      Outer Shoulder Treated Width Design Speed Limit  \\\n0                            10 ft             70 mph   \n1                            10 ft             70 mph   \n2                            10 ft             70 mph   \n3                             8 ft             65 mph   \n4                            10 ft             70 mph   \n...                            ...                ...   \n18698                         8 ft             70 mph   \n18699                          NaN                NaN   \n18700                        10 ft             70 mph   \n18701                          NaN                NaN   \n18702                        10 ft             70 mph   \n\n                              Functional Class       Inner Median Type  \\\n0      Principal Arterial W/ C/L Prin Arterial  Paved - No Roadway Use   \n1      Principal Arterial W/ C/L Prin Arterial         Separate Grades   \n2      Principal Arterial W/ C/L Prin Arterial  Paved - No Roadway Use   \n3      Principal Arterial W/ C/L Prin Arterial  Paved - No Roadway Use   \n4      Principal Arterial W/ C/L Prin Arterial  Paved - No Roadway Use   \n...                                        ...                     ...   \n18698  Principal Arterial W/ C/L Prin Arterial  Paved - No Roadway Use   \n18699                                      NaN                     NaN   \n18700  Principal Arterial W/ C/L Prin Arterial                 Unpaved   \n18701                                      NaN                     NaN   \n18702                           Minor Arterial  Paved - No Roadway Use   \n\n      Inner Median Width      Terrain Population  \\\n0                   6 ft         Flat  Urbanized   \n1                  99 ft  Mountainous      Rural   \n2                   8 ft         Flat  Urbanized   \n3                   2 ft         Flat      Rural   \n4                  36 ft         Flat  Urbanized   \n...                  ...          ...        ...   \n18698              22 ft         Flat  Urbanized   \n18699                NaN          NaN        NaN   \n18700              36 ft      Rolling      Rural   \n18701                NaN          NaN        NaN   \n18702              30 ft      Rolling  Urbanized   \n\n                               Barrier                     Surface  \\\n0                     Concrete Barrier                 Bridge Deck   \n1                          No Barriers                    Concrete   \n2      Concrete Barrier w/Glare Screen                 Bridge Deck   \n3                          No Barriers  Base & Surface >= 7\" Thick   \n4                     Concrete Barrier                 Bridge Deck   \n...                                ...                         ...   \n18698                      No Barriers  Base & Surface >= 7\" Thick   \n18699                              NaN                         NaN   \n18700               Metal Beam Barrier                    Concrete   \n18701                              NaN                         NaN   \n18702                 Concrete Barrier                    Concrete   \n\n                   Roadway Use        Lat         Lng  station_id  \n0      Median Lane is HOV Lane  33.992148 -118.069414      762624  \n1          No Special Features  37.740132 -121.588291      426775  \n2          No Special Features  34.156500 -118.422723      769359  \n3          No Special Features  38.140802 -122.221723      402050  \n4                          NaN  34.066490 -117.246445      816401  \n...                        ...        ...         ...         ...  \n18698      No Special Features  36.326780 -119.207732      602524  \n18699                      NaN  36.754868 -119.750505      603108  \n18700      No Special Features  38.310730 -122.033429      411137  \n18701                      NaN  34.134842 -117.339254      814547  \n18702  Median Lane is HOV Lane  33.945546 -117.673171      814857  \n\n[18703 rows x 19 columns]",
      "text/html": "<div>\n<style scoped>\n    .dataframe tbody tr th:only-of-type {\n        vertical-align: middle;\n    }\n\n    .dataframe tbody tr th {\n        vertical-align: top;\n    }\n\n    .dataframe thead th {\n        text-align: right;\n    }\n</style>\n<table border=\"1\" class=\"dataframe\">\n  <thead>\n    <tr style=\"text-align: right;\">\n      <th></th>\n      <th>Unnamed: 0</th>\n      <th>Road Width</th>\n      <th>Lane Width</th>\n      <th>Inner Shoulder Width</th>\n      <th>Inner Shoulder Treated Width</th>\n      <th>Outer Shoulder Width</th>\n      <th>Outer Shoulder Treated Width</th>\n      <th>Design Speed Limit</th>\n      <th>Functional Class</th>\n      <th>Inner Median Type</th>\n      <th>Inner Median Width</th>\n      <th>Terrain</th>\n      <th>Population</th>\n      <th>Barrier</th>\n      <th>Surface</th>\n      <th>Roadway Use</th>\n      <th>Lat</th>\n      <th>Lng</th>\n      <th>station_id</th>\n    </tr>\n  </thead>\n  <tbody>\n    <tr>\n      <th>0</th>\n      <td>0</td>\n      <td>56 ft</td>\n      <td>11.2 ft</td>\n      <td>2 ft</td>\n      <td>2 ft</td>\n      <td>10 ft</td>\n      <td>10 ft</td>\n      <td>70 mph</td>\n      <td>Principal Arterial W/ C/L Prin Arterial</td>\n      <td>Paved - No Roadway Use</td>\n      <td>6 ft</td>\n      <td>Flat</td>\n      <td>Urbanized</td>\n      <td>Concrete Barrier</td>\n      <td>Bridge Deck</td>\n      <td>Median Lane is HOV Lane</td>\n      <td>33.992148</td>\n      <td>-118.069414</td>\n      <td>762624</td>\n    </tr>\n    <tr>\n      <th>1</th>\n      <td>1</td>\n      <td>48 ft</td>\n      <td>12.0 ft</td>\n      <td>8 ft</td>\n      <td>8 ft</td>\n      <td>10 ft</td>\n      <td>10 ft</td>\n      <td>70 mph</td>\n      <td>Principal Arterial W/ C/L Prin Arterial</td>\n      <td>Separate Grades</td>\n      <td>99 ft</td>\n      <td>Mountainous</td>\n      <td>Rural</td>\n      <td>No Barriers</td>\n      <td>Concrete</td>\n      <td>No Special Features</td>\n      <td>37.740132</td>\n      <td>-121.588291</td>\n      <td>426775</td>\n    </tr>\n    <tr>\n      <th>2</th>\n      <td>2</td>\n      <td>55 ft</td>\n      <td>11.0 ft</td>\n      <td>3 ft</td>\n      <td>3 ft</td>\n      <td>10 ft</td>\n      <td>10 ft</td>\n      <td>70 mph</td>\n      <td>Principal Arterial W/ C/L Prin Arterial</td>\n      <td>Paved - No Roadway Use</td>\n      <td>8 ft</td>\n      <td>Flat</td>\n      <td>Urbanized</td>\n      <td>Concrete Barrier w/Glare Screen</td>\n      <td>Bridge Deck</td>\n      <td>No Special Features</td>\n      <td>34.156500</td>\n      <td>-118.422723</td>\n      <td>769359</td>\n    </tr>\n    <tr>\n      <th>3</th>\n      <td>3</td>\n      <td>12 ft</td>\n      <td>12.0 ft</td>\n      <td>1 ft</td>\n      <td>1 ft</td>\n      <td>8 ft</td>\n      <td>8 ft</td>\n      <td>65 mph</td>\n      <td>Principal Arterial W/ C/L Prin Arterial</td>\n      <td>Paved - No Roadway Use</td>\n      <td>2 ft</td>\n      <td>Flat</td>\n      <td>Rural</td>\n      <td>No Barriers</td>\n      <td>Base &amp; Surface &gt;= 7\" Thick</td>\n      <td>No Special Features</td>\n      <td>38.140802</td>\n      <td>-122.221723</td>\n      <td>402050</td>\n    </tr>\n    <tr>\n      <th>4</th>\n      <td>4</td>\n      <td>48 ft</td>\n      <td>12.0 ft</td>\n      <td>5 ft</td>\n      <td>5 ft</td>\n      <td>10 ft</td>\n      <td>10 ft</td>\n      <td>70 mph</td>\n      <td>Principal Arterial W/ C/L Prin Arterial</td>\n      <td>Paved - No Roadway Use</td>\n      <td>36 ft</td>\n      <td>Flat</td>\n      <td>Urbanized</td>\n      <td>Concrete Barrier</td>\n      <td>Bridge Deck</td>\n      <td>NaN</td>\n      <td>34.066490</td>\n      <td>-117.246445</td>\n      <td>816401</td>\n    </tr>\n    <tr>\n      <th>...</th>\n      <td>...</td>\n      <td>...</td>\n      <td>...</td>\n      <td>...</td>\n      <td>...</td>\n      <td>...</td>\n      <td>...</td>\n      <td>...</td>\n      <td>...</td>\n      <td>...</td>\n      <td>...</td>\n      <td>...</td>\n      <td>...</td>\n      <td>...</td>\n      <td>...</td>\n      <td>...</td>\n      <td>...</td>\n      <td>...</td>\n      <td>...</td>\n    </tr>\n    <tr>\n      <th>18698</th>\n      <td>19500</td>\n      <td>24 ft</td>\n      <td>12.0 ft</td>\n      <td>5 ft</td>\n      <td>5 ft</td>\n      <td>8 ft</td>\n      <td>8 ft</td>\n      <td>70 mph</td>\n      <td>Principal Arterial W/ C/L Prin Arterial</td>\n      <td>Paved - No Roadway Use</td>\n      <td>22 ft</td>\n      <td>Flat</td>\n      <td>Urbanized</td>\n      <td>No Barriers</td>\n      <td>Base &amp; Surface &gt;= 7\" Thick</td>\n      <td>No Special Features</td>\n      <td>36.326780</td>\n      <td>-119.207732</td>\n      <td>602524</td>\n    </tr>\n    <tr>\n      <th>18699</th>\n      <td>19501</td>\n      <td>NaN</td>\n      <td>NaN</td>\n      <td>NaN</td>\n      <td>NaN</td>\n      <td>NaN</td>\n      <td>NaN</td>\n      <td>NaN</td>\n      <td>NaN</td>\n      <td>NaN</td>\n      <td>NaN</td>\n      <td>NaN</td>\n      <td>NaN</td>\n      <td>NaN</td>\n      <td>NaN</td>\n      <td>NaN</td>\n      <td>36.754868</td>\n      <td>-119.750505</td>\n      <td>603108</td>\n    </tr>\n    <tr>\n      <th>18700</th>\n      <td>19502</td>\n      <td>48 ft</td>\n      <td>12.0 ft</td>\n      <td>8 ft</td>\n      <td>8 ft</td>\n      <td>10 ft</td>\n      <td>10 ft</td>\n      <td>70 mph</td>\n      <td>Principal Arterial W/ C/L Prin Arterial</td>\n      <td>Unpaved</td>\n      <td>36 ft</td>\n      <td>Rolling</td>\n      <td>Rural</td>\n      <td>Metal Beam Barrier</td>\n      <td>Concrete</td>\n      <td>No Special Features</td>\n      <td>38.310730</td>\n      <td>-122.033429</td>\n      <td>411137</td>\n    </tr>\n    <tr>\n      <th>18701</th>\n      <td>19503</td>\n      <td>NaN</td>\n      <td>NaN</td>\n      <td>NaN</td>\n      <td>NaN</td>\n      <td>NaN</td>\n      <td>NaN</td>\n      <td>NaN</td>\n      <td>NaN</td>\n      <td>NaN</td>\n      <td>NaN</td>\n      <td>NaN</td>\n      <td>NaN</td>\n      <td>NaN</td>\n      <td>NaN</td>\n      <td>NaN</td>\n      <td>34.134842</td>\n      <td>-117.339254</td>\n      <td>814547</td>\n    </tr>\n    <tr>\n      <th>18702</th>\n      <td>19504</td>\n      <td>40 ft</td>\n      <td>13.3 ft</td>\n      <td>10 ft</td>\n      <td>10 ft</td>\n      <td>10 ft</td>\n      <td>10 ft</td>\n      <td>70 mph</td>\n      <td>Minor Arterial</td>\n      <td>Paved - No Roadway Use</td>\n      <td>30 ft</td>\n      <td>Rolling</td>\n      <td>Urbanized</td>\n      <td>Concrete Barrier</td>\n      <td>Concrete</td>\n      <td>Median Lane is HOV Lane</td>\n      <td>33.945546</td>\n      <td>-117.673171</td>\n      <td>814857</td>\n    </tr>\n  </tbody>\n</table>\n<p>18703 rows × 19 columns</p>\n</div>"
     },
     "execution_count": 8,
     "metadata": {},
     "output_type": "execute_result"
    }
   ],
   "source": [
    "geo_meta_info"
   ],
   "metadata": {
    "collapsed": false
   }
  },
  {
   "cell_type": "code",
   "execution_count": 20,
   "outputs": [
    {
     "name": "stdout",
     "output_type": "stream",
     "text": [
      "Mainline                9534\n",
      "On Ramp                 3706\n",
      "Off Ramp                2650\n",
      "HOV                     2139\n",
      "Fwy-Fwy                  524\n",
      "Conventional Highway     101\n",
      "Coll/Dist                 49\n",
      "Name: Type, dtype: int64\n",
      "Concrete                      10102\n",
      "Base & Surface >= 7\" Thick     5466\n",
      "Bridge Deck                    2011\n",
      "Base & Surface < 7\" Thick        72\n",
      "Undetermined                      1\n",
      "Oiled Earth - Gravel              1\n",
      "Name: Surface, dtype: int64\n",
      "Flat           12450\n",
      "Rolling         4732\n",
      "Mountainous      595\n",
      "Name: Terrain, dtype: int64\n"
     ]
    }
   ],
   "source": [
    "road_surface = {geo_meta_info['station_id'].iloc[i]: geo_meta_info['Surface'].iloc[i] for i in range(len(geo_meta_info))}\n",
    "road_terrain = {geo_meta_info['station_id'].iloc[i]: geo_meta_info['Terrain'].iloc[i] for i in range(len(geo_meta_info))}\n",
    "road_width = {geo_meta_info['station_id'].iloc[i]: geo_meta_info['Road Width'].iloc[i] for i in range(len(geo_meta_info))}\n",
    "Fwy2id, Fwy2district = {}, {}\n",
    "for i in range(len(meta_info)):\n",
    "    Fwy2id[meta_info['Fwy'].iloc[i]] = meta_info['ID'].iloc[i]\n",
    "    Fwy2district[meta_info['Fwy'].iloc[i]] = meta_info['District'].iloc[i]\n",
    "print(meta_info['Type'].value_counts())\n",
    "print(geo_meta_info['Surface'].value_counts())\n",
    "print(geo_meta_info['Terrain'].value_counts())"
   ],
   "metadata": {
    "collapsed": false
   }
  },
  {
   "cell_type": "markdown",
   "source": [
    "## Find the district: 8, 3, 4, 7"
   ],
   "metadata": {
    "collapsed": false
   }
  },
  {
   "cell_type": "code",
   "execution_count": 10,
   "outputs": [
    {
     "name": "stdout",
     "output_type": "stream",
     "text": [
      "Index(['1125-Traffic Hazard', '1183-Trfc Collision-Unkn Inj',\n",
      "       '1182-Trfc Collision-No Inj', '1179-Trfc Collision-1141 Enrt',\n",
      "       '20002-Hit and Run No Injuries', 'FIRE-Report of Fire',\n",
      "       '1125A-Animal Hazard', 'CZP-Assist with Construction'],\n",
      "      dtype='object')\n"
     ]
    },
    {
     "name": "stderr",
     "output_type": "stream",
     "text": [
      "C:\\Users\\Administrator\\AppData\\Local\\Programs\\Python\\Python39\\lib\\site-packages\\pandas\\core\\indexing.py:1637: SettingWithCopyWarning: \n",
      "A value is trying to be set on a copy of a slice from a DataFrame\n",
      "\n",
      "See the caveats in the documentation: https://pandas.pydata.org/pandas-docs/stable/user_guide/indexing.html#returning-a-view-versus-a-copy\n",
      "  self._setitem_single_block(indexer, value, name)\n"
     ]
    }
   ],
   "source": [
    "# node_id = [716479, 801230, 1201931, 1201949]\n",
    "df_selected = df_incident.copy() #df_incident[(df_incident['nearest_node'] == 801230)]\n",
    "df_selected = df_selected.dropna()\n",
    "df_selected['Start Time'] = pd.to_datetime(df_selected['Start Time'])\n",
    "top_8_accidents = df_selected['DESCRIPTION'].value_counts().nlargest(8).index\n",
    "print(top_8_accidents)\n",
    "\n",
    "df_selected['date'] = df_selected['Start Time'].dt.date\n",
    "df_selected['hour'] = df_selected['Start Time'].dt.hour\n",
    "days = pd.date_range(start='2023-01-01', end='2023-12-31')\n",
    "hours = range(24)\n",
    "map_day = {datetime.date.strftime(days[i], '%Y-%m-%d'):i for i in range(len(days))}\n",
    "df_selected['District'] = [0] * len(df_selected)\n",
    "\n",
    "for i in range(len(df_selected)):\n",
    "    if df_selected['DESCRIPTION'].iloc[i] in top_8_accidents and datetime.datetime.strftime(df_selected['date'].iloc[i], '%Y-%m-%d') in map_day:\n",
    "        if df_selected['Freeway'].iloc[i] in Fwy2id:\n",
    "            Fwyid = Fwy2id[df_selected['Freeway'].iloc[i]]\n",
    "            df_selected['District'].loc[i] = Fwy2district[df_selected['Freeway'].iloc[i]]"
   ],
   "metadata": {
    "collapsed": false
   }
  },
  {
   "cell_type": "code",
   "execution_count": 11,
   "outputs": [
    {
     "data": {
      "text/plain": "       Incident Id          Start Time Duration (mins)  Freeway   CA PM  \\\n0         21379205 2023-01-03 13:23:00              61   SR51-N     4.8   \n1         21379238 2023-01-03 13:52:00               4   I580-E   9.816   \n2         21379243 2023-01-03 13:21:00             379    I80-E   0.454   \n3         21379245 2023-01-03 13:12:00             104    I80-W    4.79   \n4         21379247 2023-01-03 12:38:00              60  US101-S   1.169   \n...            ...                 ...             ...      ...     ...   \n477571    22105233 2023-12-31 22:56:00               0     I8-W  R4.757   \n477572    22105662 2024-01-01 06:26:00             703    I15-S  44.522   \n477573    22105705 2024-01-01 07:32:00               7   SR17-S   0.047   \n477574    22105828 2024-01-01 10:05:00               0     I8-W  R4.757   \n477575    22106147 2024-01-01 15:05:00               0     I8-W  R4.757   \n\n        Abs PM Source               AREA                      LOCATION  \\\n0          4.8    CHP          North Sac  El Camino Ave E Onr / Sr51 N   \n1         26.0    CHP             Dublin         I580 E / Vasco Rd Ofr   \n2         13.8    CHP            Oakland       I80 E / Central Ave Onr   \n3         10.1    CHP            Oakland      I80 W / I80 W SR13 S CON   \n4        429.5    CHP  San Francisco FSP        Us101 S / Paul Ave Ofr   \n...        ...    ...                ...                           ...   \n477571    82.1    CHP          El Centro                        0 I8 W   \n477572   152.4    CHP        Victorville     I15 S / Stoddard Wells Rd   \n477573    12.6    CHP         Santa Cruz               Sr17 S / Summit   \n477574    82.1    CHP          El Centro                        0 I8 W   \n477575    82.1    CHP          El Centro                        0 I8 W   \n\n                          DESCRIPTION      type  nearest_node        date  \\\n0       20002-Hit and Run No Injuries  accident        312807  2023-01-03   \n1          1182-Trfc Collision-No Inj  accident        418342  2023-01-03   \n2        1183-Trfc Collision-Unkn Inj  accident        407260  2023-01-03   \n3       20002-Hit and Run No Injuries  accident        400691  2023-01-03   \n4          1182-Trfc Collision-No Inj  accident        403092  2023-01-03   \n...                               ...       ...           ...         ...   \n477571   1013-Road/Weather Conditions   weather       1113364  2023-12-31   \n477572   1013-Road/Weather Conditions   weather        820894  2024-01-01   \n477573   1013-Road/Weather Conditions   weather        405586  2024-01-01   \n477574   1013-Road/Weather Conditions   weather       1113364  2024-01-01   \n477575   1013-Road/Weather Conditions   weather       1113364  2024-01-01   \n\n        hour  District  \n0         13         3  \n1         13         4  \n2         13         3  \n3         13         3  \n4         12         4  \n...      ...       ...  \n477571    22         0  \n477572     6         0  \n477573     7         0  \n477574    10         0  \n477575    15         0  \n\n[470899 rows x 15 columns]",
      "text/html": "<div>\n<style scoped>\n    .dataframe tbody tr th:only-of-type {\n        vertical-align: middle;\n    }\n\n    .dataframe tbody tr th {\n        vertical-align: top;\n    }\n\n    .dataframe thead th {\n        text-align: right;\n    }\n</style>\n<table border=\"1\" class=\"dataframe\">\n  <thead>\n    <tr style=\"text-align: right;\">\n      <th></th>\n      <th>Incident Id</th>\n      <th>Start Time</th>\n      <th>Duration (mins)</th>\n      <th>Freeway</th>\n      <th>CA PM</th>\n      <th>Abs PM</th>\n      <th>Source</th>\n      <th>AREA</th>\n      <th>LOCATION</th>\n      <th>DESCRIPTION</th>\n      <th>type</th>\n      <th>nearest_node</th>\n      <th>date</th>\n      <th>hour</th>\n      <th>District</th>\n    </tr>\n  </thead>\n  <tbody>\n    <tr>\n      <th>0</th>\n      <td>21379205</td>\n      <td>2023-01-03 13:23:00</td>\n      <td>61</td>\n      <td>SR51-N</td>\n      <td>4.8</td>\n      <td>4.8</td>\n      <td>CHP</td>\n      <td>North Sac</td>\n      <td>El Camino Ave E Onr / Sr51 N</td>\n      <td>20002-Hit and Run No Injuries</td>\n      <td>accident</td>\n      <td>312807</td>\n      <td>2023-01-03</td>\n      <td>13</td>\n      <td>3</td>\n    </tr>\n    <tr>\n      <th>1</th>\n      <td>21379238</td>\n      <td>2023-01-03 13:52:00</td>\n      <td>4</td>\n      <td>I580-E</td>\n      <td>9.816</td>\n      <td>26.0</td>\n      <td>CHP</td>\n      <td>Dublin</td>\n      <td>I580 E / Vasco Rd Ofr</td>\n      <td>1182-Trfc Collision-No Inj</td>\n      <td>accident</td>\n      <td>418342</td>\n      <td>2023-01-03</td>\n      <td>13</td>\n      <td>4</td>\n    </tr>\n    <tr>\n      <th>2</th>\n      <td>21379243</td>\n      <td>2023-01-03 13:21:00</td>\n      <td>379</td>\n      <td>I80-E</td>\n      <td>0.454</td>\n      <td>13.8</td>\n      <td>CHP</td>\n      <td>Oakland</td>\n      <td>I80 E / Central Ave Onr</td>\n      <td>1183-Trfc Collision-Unkn Inj</td>\n      <td>accident</td>\n      <td>407260</td>\n      <td>2023-01-03</td>\n      <td>13</td>\n      <td>3</td>\n    </tr>\n    <tr>\n      <th>3</th>\n      <td>21379245</td>\n      <td>2023-01-03 13:12:00</td>\n      <td>104</td>\n      <td>I80-W</td>\n      <td>4.79</td>\n      <td>10.1</td>\n      <td>CHP</td>\n      <td>Oakland</td>\n      <td>I80 W / I80 W SR13 S CON</td>\n      <td>20002-Hit and Run No Injuries</td>\n      <td>accident</td>\n      <td>400691</td>\n      <td>2023-01-03</td>\n      <td>13</td>\n      <td>3</td>\n    </tr>\n    <tr>\n      <th>4</th>\n      <td>21379247</td>\n      <td>2023-01-03 12:38:00</td>\n      <td>60</td>\n      <td>US101-S</td>\n      <td>1.169</td>\n      <td>429.5</td>\n      <td>CHP</td>\n      <td>San Francisco FSP</td>\n      <td>Us101 S / Paul Ave Ofr</td>\n      <td>1182-Trfc Collision-No Inj</td>\n      <td>accident</td>\n      <td>403092</td>\n      <td>2023-01-03</td>\n      <td>12</td>\n      <td>4</td>\n    </tr>\n    <tr>\n      <th>...</th>\n      <td>...</td>\n      <td>...</td>\n      <td>...</td>\n      <td>...</td>\n      <td>...</td>\n      <td>...</td>\n      <td>...</td>\n      <td>...</td>\n      <td>...</td>\n      <td>...</td>\n      <td>...</td>\n      <td>...</td>\n      <td>...</td>\n      <td>...</td>\n      <td>...</td>\n    </tr>\n    <tr>\n      <th>477571</th>\n      <td>22105233</td>\n      <td>2023-12-31 22:56:00</td>\n      <td>0</td>\n      <td>I8-W</td>\n      <td>R4.757</td>\n      <td>82.1</td>\n      <td>CHP</td>\n      <td>El Centro</td>\n      <td>0 I8 W</td>\n      <td>1013-Road/Weather Conditions</td>\n      <td>weather</td>\n      <td>1113364</td>\n      <td>2023-12-31</td>\n      <td>22</td>\n      <td>0</td>\n    </tr>\n    <tr>\n      <th>477572</th>\n      <td>22105662</td>\n      <td>2024-01-01 06:26:00</td>\n      <td>703</td>\n      <td>I15-S</td>\n      <td>44.522</td>\n      <td>152.4</td>\n      <td>CHP</td>\n      <td>Victorville</td>\n      <td>I15 S / Stoddard Wells Rd</td>\n      <td>1013-Road/Weather Conditions</td>\n      <td>weather</td>\n      <td>820894</td>\n      <td>2024-01-01</td>\n      <td>6</td>\n      <td>0</td>\n    </tr>\n    <tr>\n      <th>477573</th>\n      <td>22105705</td>\n      <td>2024-01-01 07:32:00</td>\n      <td>7</td>\n      <td>SR17-S</td>\n      <td>0.047</td>\n      <td>12.6</td>\n      <td>CHP</td>\n      <td>Santa Cruz</td>\n      <td>Sr17 S / Summit</td>\n      <td>1013-Road/Weather Conditions</td>\n      <td>weather</td>\n      <td>405586</td>\n      <td>2024-01-01</td>\n      <td>7</td>\n      <td>0</td>\n    </tr>\n    <tr>\n      <th>477574</th>\n      <td>22105828</td>\n      <td>2024-01-01 10:05:00</td>\n      <td>0</td>\n      <td>I8-W</td>\n      <td>R4.757</td>\n      <td>82.1</td>\n      <td>CHP</td>\n      <td>El Centro</td>\n      <td>0 I8 W</td>\n      <td>1013-Road/Weather Conditions</td>\n      <td>weather</td>\n      <td>1113364</td>\n      <td>2024-01-01</td>\n      <td>10</td>\n      <td>0</td>\n    </tr>\n    <tr>\n      <th>477575</th>\n      <td>22106147</td>\n      <td>2024-01-01 15:05:00</td>\n      <td>0</td>\n      <td>I8-W</td>\n      <td>R4.757</td>\n      <td>82.1</td>\n      <td>CHP</td>\n      <td>El Centro</td>\n      <td>0 I8 W</td>\n      <td>1013-Road/Weather Conditions</td>\n      <td>weather</td>\n      <td>1113364</td>\n      <td>2024-01-01</td>\n      <td>15</td>\n      <td>0</td>\n    </tr>\n  </tbody>\n</table>\n<p>470899 rows × 15 columns</p>\n</div>"
     },
     "execution_count": 11,
     "metadata": {},
     "output_type": "execute_result"
    }
   ],
   "source": [
    "df_selected"
   ],
   "metadata": {
    "collapsed": false
   }
  },
  {
   "cell_type": "code",
   "execution_count": 12,
   "outputs": [
    {
     "data": {
      "text/plain": "       Incident Id        Start Time Duration (mins)  Freeway   CA PM  Abs PM  \\\n0         21379205  01/03/2023 13:23              61   SR51-N     4.8     4.8   \n1         21379238  01/03/2023 13:52               4   I580-E   9.816    26.0   \n2         21379243  01/03/2023 13:21             379    I80-E   0.454    13.8   \n3         21379245  01/03/2023 13:12             104    I80-W    4.79    10.1   \n4         21379247  01/03/2023 12:38              60  US101-S   1.169   429.5   \n...            ...               ...             ...      ...     ...     ...   \n477571    22105233    12/31/23 22:56               0     I8-W  R4.757    82.1   \n477572    22105662   01/01/2024 6:26             703    I15-S  44.522   152.4   \n477573    22105705   01/01/2024 7:32               7   SR17-S   0.047    12.6   \n477574    22105828  01/01/2024 10:05               0     I8-W  R4.757    82.1   \n477575    22106147  01/01/2024 15:05               0     I8-W  R4.757    82.1   \n\n       Source               AREA                      LOCATION  \\\n0         CHP          North Sac  El Camino Ave E Onr / Sr51 N   \n1         CHP             Dublin         I580 E / Vasco Rd Ofr   \n2         CHP            Oakland       I80 E / Central Ave Onr   \n3         CHP            Oakland      I80 W / I80 W SR13 S CON   \n4         CHP  San Francisco FSP        Us101 S / Paul Ave Ofr   \n...       ...                ...                           ...   \n477571    CHP          El Centro                        0 I8 W   \n477572    CHP        Victorville     I15 S / Stoddard Wells Rd   \n477573    CHP         Santa Cruz               Sr17 S / Summit   \n477574    CHP          El Centro                        0 I8 W   \n477575    CHP          El Centro                        0 I8 W   \n\n                          DESCRIPTION      type  nearest_node  \n0       20002-Hit and Run No Injuries  accident        312807  \n1          1182-Trfc Collision-No Inj  accident        418342  \n2        1183-Trfc Collision-Unkn Inj  accident        407260  \n3       20002-Hit and Run No Injuries  accident        400691  \n4          1182-Trfc Collision-No Inj  accident        403092  \n...                               ...       ...           ...  \n477571   1013-Road/Weather Conditions   weather       1113364  \n477572   1013-Road/Weather Conditions   weather        820894  \n477573   1013-Road/Weather Conditions   weather        405586  \n477574   1013-Road/Weather Conditions   weather       1113364  \n477575   1013-Road/Weather Conditions   weather       1113364  \n\n[477576 rows x 12 columns]",
      "text/html": "<div>\n<style scoped>\n    .dataframe tbody tr th:only-of-type {\n        vertical-align: middle;\n    }\n\n    .dataframe tbody tr th {\n        vertical-align: top;\n    }\n\n    .dataframe thead th {\n        text-align: right;\n    }\n</style>\n<table border=\"1\" class=\"dataframe\">\n  <thead>\n    <tr style=\"text-align: right;\">\n      <th></th>\n      <th>Incident Id</th>\n      <th>Start Time</th>\n      <th>Duration (mins)</th>\n      <th>Freeway</th>\n      <th>CA PM</th>\n      <th>Abs PM</th>\n      <th>Source</th>\n      <th>AREA</th>\n      <th>LOCATION</th>\n      <th>DESCRIPTION</th>\n      <th>type</th>\n      <th>nearest_node</th>\n    </tr>\n  </thead>\n  <tbody>\n    <tr>\n      <th>0</th>\n      <td>21379205</td>\n      <td>01/03/2023 13:23</td>\n      <td>61</td>\n      <td>SR51-N</td>\n      <td>4.8</td>\n      <td>4.8</td>\n      <td>CHP</td>\n      <td>North Sac</td>\n      <td>El Camino Ave E Onr / Sr51 N</td>\n      <td>20002-Hit and Run No Injuries</td>\n      <td>accident</td>\n      <td>312807</td>\n    </tr>\n    <tr>\n      <th>1</th>\n      <td>21379238</td>\n      <td>01/03/2023 13:52</td>\n      <td>4</td>\n      <td>I580-E</td>\n      <td>9.816</td>\n      <td>26.0</td>\n      <td>CHP</td>\n      <td>Dublin</td>\n      <td>I580 E / Vasco Rd Ofr</td>\n      <td>1182-Trfc Collision-No Inj</td>\n      <td>accident</td>\n      <td>418342</td>\n    </tr>\n    <tr>\n      <th>2</th>\n      <td>21379243</td>\n      <td>01/03/2023 13:21</td>\n      <td>379</td>\n      <td>I80-E</td>\n      <td>0.454</td>\n      <td>13.8</td>\n      <td>CHP</td>\n      <td>Oakland</td>\n      <td>I80 E / Central Ave Onr</td>\n      <td>1183-Trfc Collision-Unkn Inj</td>\n      <td>accident</td>\n      <td>407260</td>\n    </tr>\n    <tr>\n      <th>3</th>\n      <td>21379245</td>\n      <td>01/03/2023 13:12</td>\n      <td>104</td>\n      <td>I80-W</td>\n      <td>4.79</td>\n      <td>10.1</td>\n      <td>CHP</td>\n      <td>Oakland</td>\n      <td>I80 W / I80 W SR13 S CON</td>\n      <td>20002-Hit and Run No Injuries</td>\n      <td>accident</td>\n      <td>400691</td>\n    </tr>\n    <tr>\n      <th>4</th>\n      <td>21379247</td>\n      <td>01/03/2023 12:38</td>\n      <td>60</td>\n      <td>US101-S</td>\n      <td>1.169</td>\n      <td>429.5</td>\n      <td>CHP</td>\n      <td>San Francisco FSP</td>\n      <td>Us101 S / Paul Ave Ofr</td>\n      <td>1182-Trfc Collision-No Inj</td>\n      <td>accident</td>\n      <td>403092</td>\n    </tr>\n    <tr>\n      <th>...</th>\n      <td>...</td>\n      <td>...</td>\n      <td>...</td>\n      <td>...</td>\n      <td>...</td>\n      <td>...</td>\n      <td>...</td>\n      <td>...</td>\n      <td>...</td>\n      <td>...</td>\n      <td>...</td>\n      <td>...</td>\n    </tr>\n    <tr>\n      <th>477571</th>\n      <td>22105233</td>\n      <td>12/31/23 22:56</td>\n      <td>0</td>\n      <td>I8-W</td>\n      <td>R4.757</td>\n      <td>82.1</td>\n      <td>CHP</td>\n      <td>El Centro</td>\n      <td>0 I8 W</td>\n      <td>1013-Road/Weather Conditions</td>\n      <td>weather</td>\n      <td>1113364</td>\n    </tr>\n    <tr>\n      <th>477572</th>\n      <td>22105662</td>\n      <td>01/01/2024 6:26</td>\n      <td>703</td>\n      <td>I15-S</td>\n      <td>44.522</td>\n      <td>152.4</td>\n      <td>CHP</td>\n      <td>Victorville</td>\n      <td>I15 S / Stoddard Wells Rd</td>\n      <td>1013-Road/Weather Conditions</td>\n      <td>weather</td>\n      <td>820894</td>\n    </tr>\n    <tr>\n      <th>477573</th>\n      <td>22105705</td>\n      <td>01/01/2024 7:32</td>\n      <td>7</td>\n      <td>SR17-S</td>\n      <td>0.047</td>\n      <td>12.6</td>\n      <td>CHP</td>\n      <td>Santa Cruz</td>\n      <td>Sr17 S / Summit</td>\n      <td>1013-Road/Weather Conditions</td>\n      <td>weather</td>\n      <td>405586</td>\n    </tr>\n    <tr>\n      <th>477574</th>\n      <td>22105828</td>\n      <td>01/01/2024 10:05</td>\n      <td>0</td>\n      <td>I8-W</td>\n      <td>R4.757</td>\n      <td>82.1</td>\n      <td>CHP</td>\n      <td>El Centro</td>\n      <td>0 I8 W</td>\n      <td>1013-Road/Weather Conditions</td>\n      <td>weather</td>\n      <td>1113364</td>\n    </tr>\n    <tr>\n      <th>477575</th>\n      <td>22106147</td>\n      <td>01/01/2024 15:05</td>\n      <td>0</td>\n      <td>I8-W</td>\n      <td>R4.757</td>\n      <td>82.1</td>\n      <td>CHP</td>\n      <td>El Centro</td>\n      <td>0 I8 W</td>\n      <td>1013-Road/Weather Conditions</td>\n      <td>weather</td>\n      <td>1113364</td>\n    </tr>\n  </tbody>\n</table>\n<p>477576 rows × 12 columns</p>\n</div>"
     },
     "execution_count": 12,
     "metadata": {},
     "output_type": "execute_result"
    }
   ],
   "source": [
    "df_incident"
   ],
   "metadata": {
    "collapsed": false
   }
  },
  {
   "cell_type": "code",
   "execution_count": 13,
   "outputs": [],
   "source": [
    "mapping = df_incident.groupby('nearest_node')['Freeway'].unique().reset_index()"
   ],
   "metadata": {
    "collapsed": false
   }
  },
  {
   "cell_type": "code",
   "execution_count": 14,
   "outputs": [
    {
     "data": {
      "text/plain": "8     109113\n3     106662\n4      95669\n7      73070\n0      45679\n11     18464\n12      8813\n10      7271\n6       6078\n5         80\nName: District, dtype: int64"
     },
     "execution_count": 14,
     "metadata": {},
     "output_type": "execute_result"
    }
   ],
   "source": [
    "df_selected['District'].value_counts()"
   ],
   "metadata": {
    "collapsed": false
   }
  },
  {
   "cell_type": "markdown",
   "source": [
    "## Data Preprocessing: Create Node_data"
   ],
   "metadata": {
    "collapsed": false
   }
  },
  {
   "cell_type": "code",
   "execution_count": 15,
   "outputs": [],
   "source": [
    "df_district = df_selected[(df_selected['District'] == 8) | (df_selected['District'] == 3) | (df_selected['District'] == 4) | (df_selected['District'] == 7)]\n",
    "df_district = df_district[df_district['nearest_node'] != -1]\n",
    "df_district = df_district.groupby(['nearest_node', 'District']).filter(lambda x: len(x) > 1000)\n",
    "top_8_accidents = df_district['DESCRIPTION'].value_counts().nlargest(8).index\n",
    "selected_nodes = df_district['nearest_node'].unique()"
   ],
   "metadata": {
    "collapsed": false
   }
  },
  {
   "cell_type": "code",
   "execution_count": 16,
   "outputs": [
    {
     "name": "stdout",
     "output_type": "stream",
     "text": [
      "1 ./entire_data_v3/p01_done.npy\n",
      "2 ./entire_data_v3/p02_done.npy\n"
     ]
    },
    {
     "ename": "KeyboardInterrupt",
     "evalue": "",
     "output_type": "error",
     "traceback": [
      "\u001B[1;31m---------------------------------------------------------------------------\u001B[0m",
      "\u001B[1;31mKeyboardInterrupt\u001B[0m                         Traceback (most recent call last)",
      "Cell \u001B[1;32mIn[16], line 9\u001B[0m\n\u001B[0;32m      7\u001B[0m     \u001B[38;5;28;01mfor\u001B[39;00m node \u001B[38;5;129;01min\u001B[39;00m selected_nodes:\n\u001B[0;32m      8\u001B[0m         node_col \u001B[38;5;241m=\u001B[39m node2col[node]\n\u001B[1;32m----> 9\u001B[0m         node_data[node] \u001B[38;5;241m=\u001B[39m \u001B[43mnp\u001B[49m\u001B[38;5;241;43m.\u001B[39;49m\u001B[43mconcatenate\u001B[49m\u001B[43m(\u001B[49m\u001B[43m(\u001B[49m\u001B[43mnode_data\u001B[49m\u001B[43m[\u001B[49m\u001B[43mnode\u001B[49m\u001B[43m]\u001B[49m\u001B[43m,\u001B[49m\u001B[43m \u001B[49m\u001B[43mmonth_data\u001B[49m\u001B[43m[\u001B[49m\u001B[43m:\u001B[49m\u001B[43m,\u001B[49m\u001B[43m \u001B[49m\u001B[43mnode_col\u001B[49m\u001B[43m,\u001B[49m\u001B[43m \u001B[49m\u001B[43m:\u001B[49m\u001B[43m]\u001B[49m\u001B[43m)\u001B[49m\u001B[43m,\u001B[49m\u001B[43m \u001B[49m\u001B[43maxis\u001B[49m\u001B[38;5;241;43m=\u001B[39;49m\u001B[38;5;241;43m0\u001B[39;49m\u001B[43m)\u001B[49m\n\u001B[0;32m     11\u001B[0m \u001B[38;5;28;01mfor\u001B[39;00m node \u001B[38;5;129;01min\u001B[39;00m selected_nodes:\n\u001B[0;32m     12\u001B[0m     np\u001B[38;5;241m.\u001B[39msave(\u001B[38;5;124mf\u001B[39m\u001B[38;5;124m'\u001B[39m\u001B[38;5;124m./node_data/\u001B[39m\u001B[38;5;132;01m{\u001B[39;00mnode\u001B[38;5;132;01m}\u001B[39;00m\u001B[38;5;124m_node_data.npy\u001B[39m\u001B[38;5;124m'\u001B[39m, node_data[node])\n",
      "File \u001B[1;32m<__array_function__ internals>:5\u001B[0m, in \u001B[0;36mconcatenate\u001B[1;34m(*args, **kwargs)\u001B[0m\n",
      "\u001B[1;31mKeyboardInterrupt\u001B[0m: "
     ]
    }
   ],
   "source": [
    "node2col = {node_list[i]:i for i in range(len(node_list))}\n",
    "node_data = {node:np.zeros((0, 3)) for node in node_list}\n",
    "for i in range(1, 13):\n",
    "    file_path = f'./m_traffic/p{str(i).zfill(2)}_done.npy'\n",
    "    print(i, file_path)\n",
    "    month_data = np.load(file_path, mmap_mode='r')\n",
    "    for node in selected_nodes:\n",
    "        node_col = node2col[node]\n",
    "        node_data[node] = np.concatenate((node_data[node], month_data[:, node_col, :]), axis=0)\n",
    "\n",
    "for node in selected_nodes:\n",
    "    np.save(f'./node_data/{node}_node_data.npy', node_data[node])"
   ],
   "metadata": {
    "collapsed": false
   }
  },
  {
   "cell_type": "markdown",
   "source": [
    "## Data preprocessing: Create DAG data"
   ],
   "metadata": {
    "collapsed": false
   }
  },
  {
   "cell_type": "code",
   "execution_count": 69,
   "outputs": [
    {
     "name": "stdout",
     "output_type": "stream",
     "text": [
      "8 1201931\n",
      "8 769374\n",
      "8 826060\n",
      "8 1201949\n",
      "8 759280\n",
      "8 809294\n",
      "8 769373\n",
      "8 775774\n",
      "8 801230\n",
      "8 716479\n",
      "8 1213786\n",
      "3 1201931\n",
      "3 769374\n",
      "3 826060\n",
      "3 1201949\n",
      "3 759280\n",
      "3 809294\n",
      "3 775774\n",
      "3 801230\n",
      "3 716479\n",
      "4 1201931\n",
      "4 769374\n",
      "4 826060\n",
      "4 1201949\n",
      "4 775774\n",
      "4 801230\n",
      "4 716479\n",
      "7 1201931\n",
      "7 1201949\n",
      "7 801230\n"
     ]
    }
   ],
   "source": [
    "days = pd.date_range(start='2023-01-01', end='2023-12-31')\n",
    "hours = range(24)\n",
    "map_day = {datetime.date.strftime(days[i], '%Y-%m-%d'):i for i in range(len(days))}\n",
    "\n",
    "# --------------------------------- 0-7 Accident --\n",
    "#------------------------------\n",
    "district_node2id = {8:{}, 3:{}, 4:{}, 7:{}}\n",
    "district_id2node = {8:{}, 3:{}, 4:{}, 7:{}}\n",
    "node2fwy = {}\n",
    "for district in [8, 3, 4, 7]:\n",
    "    node_size = 0\n",
    "    for node in selected_nodes:\n",
    "        if np.any((df_district['nearest_node'] == node) & (df_district['District'] == district)):\n",
    "            district_node2id[district][node] = len(district_node2id[district])\n",
    "            district_id2node[district][len(district_node2id[district]) - 1] = node\n",
    "district_array = {}\n",
    "for district in [8, 3, 4, 7]:\n",
    "    district_array[district] = np.zeros((len(days) * len(district_node2id[district]), 24, 18))\n",
    "map_accident = {top_8_accidents[i]:i for i in range(len(top_8_accidents))}\n",
    "for i in range(len(df_district)):\n",
    "    if df_district['DESCRIPTION'].iloc[i] in top_8_accidents and datetime.datetime.strftime(df_district['date'].iloc[i], '%Y-%m-%d') in map_day:\n",
    "        if df_selected['Freeway'].iloc[i] in Fwy2id:\n",
    "            duration = int(df_district['Duration (mins)'].iloc[i])\n",
    "            hour = df_district['hour'].iloc[i]\n",
    "            node = df_district['nearest_node'].iloc[i]\n",
    "            day = map_day[datetime.datetime.strftime(df_district['date'].iloc[i], '%Y-%m-%d')]\n",
    "            accident = map_accident[df_district['DESCRIPTION'].iloc[i]]\n",
    "            district = df_district['District'].iloc[i]\n",
    "            fwy = df_district['Freeway'].iloc[i]\n",
    "            baserow = len(days) * district_node2id[district][node]\n",
    "            node2fwy[node] = fwy\n",
    "            while duration > 0 and hour < 24:\n",
    "                district_array[district][baserow + day, hour, accident] = min(1, duration / 60)\n",
    "                hour += 1\n",
    "                duration -= 60\n",
    "\n",
    "# --------------------------------- 8:Weekday, 9:Event, 10:Location, 11:Surface 12:Terrain 13:Width ---------------------------------\n",
    "\n",
    "event_days = [\n",
    "    '2023-01-01',\n",
    "    '2023-01-02',\n",
    "    '2023-01-16',\n",
    "    '2023-02-20',\n",
    "    '2023-04-09',\n",
    "    '2023-05-29',\n",
    "    '2023-07-04',\n",
    "    '2023-09-04',\n",
    "    '2023-10-09',\n",
    "    '2023-11-11',\n",
    "    '2023-11-23',\n",
    "    '2023-12-25'\n",
    "]\n",
    "\n",
    "Surface2id, Terrain2id = {}, {}\n",
    "for district in [8, 3, 4, 7]:\n",
    "    for i in range(len(district_node2id[district])):\n",
    "        node = district_id2node[district][i]\n",
    "        for day in range(365):\n",
    "            for hour in range(24):\n",
    "                district_array[district][i * len(days) + day, hour, 8] = days[day].dayofweek >= 5\n",
    "                district_array[district][i * len(days) + day, hour, 9] = days[day].strftime('%Y-%m-%d') in event_days\n",
    "            if road_surface[Fwy2id[node2fwy[node]]] not in Surface2id:\n",
    "                Surface2id[road_surface[Fwy2id[node2fwy[node]]]] = len(Surface2id)\n",
    "            district_array[district][i * len(days) + day, Surface2id[road_surface[Fwy2id[node2fwy[node]]]], 11] = 1\n",
    "            if road_terrain[Fwy2id[node2fwy[node]]] not in Terrain2id:\n",
    "                Terrain2id[road_terrain[Fwy2id[node2fwy[node]]]] = len(Terrain2id)\n",
    "            district_array[district][i * len(days) + day, Terrain2id[road_terrain[Fwy2id[node2fwy[node]]]], 12] = 1\n",
    "            if isinstance(road_width[Fwy2id[node2fwy[node]]], float) and np.isnan(road_width[Fwy2id[node2fwy[node]]]):\n",
    "                district_array[district][i * len(days) + day, 0, 13] = 0\n",
    "            else:\n",
    "                district_array[district][i * len(days) + day, 0, 13] = int(re.findall(r'\\d+', road_width[Fwy2id[node2fwy[node]]])[0])\n",
    "\n",
    "\n",
    "for i in range(len(df_district)):\n",
    "    if df_district['DESCRIPTION'].iloc[i] in top_8_accidents and datetime.datetime.strftime(df_district['date'].iloc[i], '%Y-%m-%d') in map_day:\n",
    "        if df_selected['Freeway'].iloc[i] in Fwy2id:\n",
    "            duration = int(df_district['Duration (mins)'].iloc[i])\n",
    "            hour = df_district['hour'].iloc[i]\n",
    "            day = map_day[datetime.datetime.strftime(df_district['date'].iloc[i], '%Y-%m-%d')]\n",
    "            district = df_district['District'].iloc[i]\n",
    "            is_con = 'con' in df_district['LOCATION'].iloc[i].lower()\n",
    "            Fwyid = Fwy2id[df_selected['Freeway'].iloc[i]]\n",
    "            node = df_district['nearest_node'].iloc[i]\n",
    "            baserow = len(days) * district_node2id[district][node]\n",
    "            while duration > 0 and hour < 24:\n",
    "                if is_con is True:\n",
    "                    district_array[district][baserow + day, hour, 10] = min(1, duration / 60)\n",
    "                else:\n",
    "                    district_array[district][baserow + day, hour, 10] = - min(1, duration / 60)\n",
    "                hour += 1\n",
    "                duration -= 60\n",
    "\n",
    "# --------------------------------- 13: Flow, 14: Occupancy, 15: Speed ---------------------------------\n",
    "\n",
    "for district in [8, 3, 4, 7]:\n",
    "    node_size = 0\n",
    "    for node in selected_nodes:\n",
    "        if np.any((df_district['nearest_node'] == node) & (df_district['District'] == district)):\n",
    "            print(district, node)\n",
    "            node_data = np.load(f'./node_data/{node}_node_data.npy')\n",
    "            node_data = np.nan_to_num(node_data)\n",
    "            node_size += 1\n",
    "            baserow = district_node2id[district][node] * len(days)\n",
    "            for day in range(365):\n",
    "                for hour in range(24):\n",
    "                    district_array[district][baserow + day, hour, 15] += np.mean(node_data[(day * 24 + hour) * 12:(day * 24 + hour + 1) * 12, 0])\n",
    "                    district_array[district][baserow + day, hour, 16] += np.mean(node_data[(day * 24 + hour) * 12:(day * 24 + hour + 1) * 12, 1])\n",
    "                    district_array[district][baserow + day, hour, 17] += np.mean(node_data[(day * 24 + hour) * 12:(day * 24 + hour + 1) * 12, 2])"
   ],
   "metadata": {
    "collapsed": false
   }
  },
  {
   "cell_type": "markdown",
   "source": [
    "## Add Weather data"
   ],
   "metadata": {
    "collapsed": false
   }
  },
  {
   "cell_type": "code",
   "execution_count": 97,
   "outputs": [],
   "source": [
    "weather_data = pd.read_csv('f_weather.csv')\n",
    "weather_data = weather_data[(weather_data['district_id'] == 'd4') | (weather_data['district_id'] == 'd7')]\n",
    "weather_data = pd.concat([weather_data, pd.read_csv('p38_weather.csv')])\n",
    "for district in [8, 3, 4, 7]:\n",
    "    district_array[district][:, :, 10] = 16\n",
    "\n",
    "for i in range(len(weather_data)):\n",
    "    if weather_data['district_id'].iloc[i] == 'd4':\n",
    "        district = 4\n",
    "    elif weather_data['district_id'].iloc[i] == 'd7':\n",
    "        district = 7\n",
    "    elif weather_data['district_id'].iloc[i] == 'd3':\n",
    "        district = 3\n",
    "    elif weather_data['district_id'].iloc[i] == 'd8':\n",
    "        district = 8\n",
    "\n",
    "    rain_description = weather_data['Weather'].iloc[i]\n",
    "    dt = weather_data['dt'].iloc[i]\n",
    "    day = map_day[dt[:10]]\n",
    "    hour = datetime.datetime.strptime(dt, '%Y-%m-%d %H:%M:%S').hour\n",
    "    vis = int(weather_data['Visibility'].iloc[i])\n",
    "    if vis == -1:\n",
    "        vis = 16\n",
    "    if 'Heavy rain' in rain_description:\n",
    "        rain = 3\n",
    "    elif 'Rain' in rain_description:\n",
    "        rain = 2\n",
    "    elif 'Light rain' in rain_description:\n",
    "        rain = 1\n",
    "    else:\n",
    "        rain = 0\n",
    "    for j in range(len(district_node2id[district])):\n",
    "        district_array[district][j * 365 + day, hour, 14] = rain\n",
    "        district_array[district][j * 365 + day, hour, 10] = vis"
   ],
   "metadata": {
    "collapsed": false
   }
  },
  {
   "cell_type": "code",
   "execution_count": 95,
   "outputs": [
    {
     "data": {
      "text/plain": "array([ True,  True, False, ..., False,  True,  True])"
     },
     "execution_count": 95,
     "metadata": {},
     "output_type": "execute_result"
    }
   ],
   "source": [],
   "metadata": {
    "collapsed": false
   }
  },
  {
   "cell_type": "markdown",
   "source": [
    "## Save district_DAG data"
   ],
   "metadata": {
    "collapsed": false
   }
  },
  {
   "cell_type": "code",
   "execution_count": 98,
   "outputs": [],
   "source": [
    "for district in [8, 3, 4, 7]:\n",
    "    np.save(f'./district_{district}_DAGdata.npy', district_array[district])"
   ],
   "metadata": {
    "collapsed": false
   }
  },
  {
   "cell_type": "code",
   "execution_count": 100,
   "outputs": [
    {
     "data": {
      "text/plain": "array([[0.00891667, 0.01505   , 0.01445   , ..., 0.04358333, 0.039725  ,\n        0.041675  ],\n       [0.04348333, 0.04574167, 0.03535833, ..., 0.03940833, 0.01825833,\n        0.03578333],\n       [0.01685   , 0.05971667, 0.01259167, ..., 0.02966667, 0.03490833,\n        0.03668333],\n       ...,\n       [0.04521667, 0.02618333, 0.02764167, ..., 0.052775  , 0.03705833,\n        0.0589    ],\n       [0.070375  , 0.06853333, 0.08481667, ..., 0.03775   , 0.02636667,\n        0.05385   ],\n       [0.01570833, 0.01319167, 0.050975  , ..., 0.03704167, 0.05559167,\n        0.04296667]])"
     },
     "execution_count": 100,
     "metadata": {},
     "output_type": "execute_result"
    }
   ],
   "source": [
    "district_array[3][:, :, 16]"
   ],
   "metadata": {
    "collapsed": false
   }
  },
  {
   "cell_type": "code",
   "execution_count": 25,
   "outputs": [
    {
     "data": {
      "text/plain": "Index(['1125-Traffic Hazard', '1182-Trfc Collision-No Inj',\n       '1183-Trfc Collision-Unkn Inj', '1179-Trfc Collision-1141 Enrt',\n       '20002-Hit and Run No Injuries', 'FIRE-Report of Fire',\n       '1125A-Animal Hazard', 'CFIRE-Car Fire'],\n      dtype='object')"
     },
     "execution_count": 25,
     "metadata": {},
     "output_type": "execute_result"
    }
   ],
   "source": [
    "top_8_accidents"
   ],
   "metadata": {
    "collapsed": false
   }
  },
  {
   "cell_type": "code",
   "execution_count": 24,
   "outputs": [
    {
     "data": {
      "text/plain": "nearest_node  District\n1201949       7           9198\n1201931       7           8634\n801230        8           8127\n716479        7           5776\n775774        7           5468\n826060        8           5401\n769374        4           5290\n809294        8           5074\n759280        8           4780\n1213786       7           4231\n769373        4           4043\n776229        7           3481\n773393        7           2713\n716987        3           2420\n773391        8           2370\n717243        8           2037\n825735        8           2035\n825733        8           2005\n3410081       3           1903\n760484        7           1878\n3410084       3           1843\n717000        3           1781\n716238        8           1748\n716001        3           1721\n715991        3           1680\n715920        3           1565\n716237        8           1560\n501010012     4           1528\n716000        3           1328\n716272        8           1223\n402779        4           1207\n1213790       7           1204\n1203487       8           1197\n768507        3           1167\n765106        4           1069\n718325        3           1039\n402780        4           1002\ndtype: int64"
     },
     "execution_count": 24,
     "metadata": {},
     "output_type": "execute_result"
    }
   ],
   "source": [
    "df_district[['nearest_node', 'District']].value_counts()"
   ],
   "metadata": {
    "collapsed": false
   }
  },
  {
   "cell_type": "code",
   "execution_count": 51,
   "outputs": [
    {
     "data": {
      "text/plain": "       Incident Id          Start Time Duration (mins) Freeway    CA PM  \\\n5         21379269 2023-01-03 14:02:00              25  I110-N    30.57   \n6         21379271 2023-01-03 13:58:00              20  I110-N    30.57   \n8         21379275 2023-01-03 13:38:00              89  I405-S   16.628   \n9         21379277 2023-01-03 13:36:00              42  I405-S   16.628   \n12        21379285 2023-01-03 13:03:00              74  I405-S   31.628   \n...            ...                 ...             ...     ...      ...   \n472884    22073848 2023-12-15 01:46:00              16  I210-W  R31.911   \n472932    22075847 2023-12-15 23:38:00               2   I10-W   R5.455   \n472971    22077807 2023-12-17 00:34:00             189  I210-W  R31.911   \n473475    22096736 2023-12-26 23:29:00             280   I10-E   17.755   \n473586    22100096 2023-12-28 23:26:00             274   I10-E   17.955   \n\n        Abs PM Source        AREA                           LOCATION  \\\n5         30.5    CHP       LAFSP         Sr110 N / Orange Grove Ave   \n6         30.5    CHP  Central LA         Sr110 N / Orange Grove Ave   \n8         40.4    CHP       LAFSP          I405 S / Artesia Blvd Ofr   \n9         40.4    CHP    South LA          I405 S / Artesia Blvd Ofr   \n12        55.4    CHP     West LA         I405 S / Wilshire Blvd Onr   \n...        ...    ...         ...                                ...   \n472884    32.2    CHP    Altadena         I210 W / N Santa Anita Ave   \n472932     3.3    CHP     West LA           I10 W / I405 S I10 E Con   \n472971    32.2    CHP    Altadena         I210 W / N Santa Anita Ave   \n473475    15.6    CHP  Central LA                     I10 E / Sr60 E   \n473586    15.8    CHP  Central LA  I10 E I5 N CON / I10 E SR60 E CON   \n\n                          DESCRIPTION      type  nearest_node       date  \\\n5          1182-Trfc Collision-No Inj  accident        716479 2023-01-03   \n6          1182-Trfc Collision-No Inj  accident        716479 2023-01-03   \n8          1182-Trfc Collision-No Inj  accident       1201931 2023-01-03   \n9          1182-Trfc Collision-No Inj  accident       1201931 2023-01-03   \n12      20002-Hit and Run No Injuries  accident       1201931 2023-01-03   \n...                               ...       ...           ...        ...   \n472884   CZP-Assist with Construction     other        826060 2023-12-15   \n472932   CZP-Assist with Construction     other        801230 2023-12-15   \n472971   CZP-Assist with Construction     other        826060 2023-12-17   \n473475   CZP-Assist with Construction     other        759280 2023-12-26   \n473586   CZP-Assist with Construction     other        759280 2023-12-28   \n\n        hour  District  \n5         14         7  \n6         13         7  \n8         13         7  \n9         13         7  \n12        13         7  \n...      ...       ...  \n472884     1         8  \n472932    23         8  \n472971     0         8  \n473475    23         8  \n473586    23         8  \n\n[62271 rows x 15 columns]",
      "text/html": "<div>\n<style scoped>\n    .dataframe tbody tr th:only-of-type {\n        vertical-align: middle;\n    }\n\n    .dataframe tbody tr th {\n        vertical-align: top;\n    }\n\n    .dataframe thead th {\n        text-align: right;\n    }\n</style>\n<table border=\"1\" class=\"dataframe\">\n  <thead>\n    <tr style=\"text-align: right;\">\n      <th></th>\n      <th>Incident Id</th>\n      <th>Start Time</th>\n      <th>Duration (mins)</th>\n      <th>Freeway</th>\n      <th>CA PM</th>\n      <th>Abs PM</th>\n      <th>Source</th>\n      <th>AREA</th>\n      <th>LOCATION</th>\n      <th>DESCRIPTION</th>\n      <th>type</th>\n      <th>nearest_node</th>\n      <th>date</th>\n      <th>hour</th>\n      <th>District</th>\n    </tr>\n  </thead>\n  <tbody>\n    <tr>\n      <th>5</th>\n      <td>21379269</td>\n      <td>2023-01-03 14:02:00</td>\n      <td>25</td>\n      <td>I110-N</td>\n      <td>30.57</td>\n      <td>30.5</td>\n      <td>CHP</td>\n      <td>LAFSP</td>\n      <td>Sr110 N / Orange Grove Ave</td>\n      <td>1182-Trfc Collision-No Inj</td>\n      <td>accident</td>\n      <td>716479</td>\n      <td>2023-01-03</td>\n      <td>14</td>\n      <td>7</td>\n    </tr>\n    <tr>\n      <th>6</th>\n      <td>21379271</td>\n      <td>2023-01-03 13:58:00</td>\n      <td>20</td>\n      <td>I110-N</td>\n      <td>30.57</td>\n      <td>30.5</td>\n      <td>CHP</td>\n      <td>Central LA</td>\n      <td>Sr110 N / Orange Grove Ave</td>\n      <td>1182-Trfc Collision-No Inj</td>\n      <td>accident</td>\n      <td>716479</td>\n      <td>2023-01-03</td>\n      <td>13</td>\n      <td>7</td>\n    </tr>\n    <tr>\n      <th>8</th>\n      <td>21379275</td>\n      <td>2023-01-03 13:38:00</td>\n      <td>89</td>\n      <td>I405-S</td>\n      <td>16.628</td>\n      <td>40.4</td>\n      <td>CHP</td>\n      <td>LAFSP</td>\n      <td>I405 S / Artesia Blvd Ofr</td>\n      <td>1182-Trfc Collision-No Inj</td>\n      <td>accident</td>\n      <td>1201931</td>\n      <td>2023-01-03</td>\n      <td>13</td>\n      <td>7</td>\n    </tr>\n    <tr>\n      <th>9</th>\n      <td>21379277</td>\n      <td>2023-01-03 13:36:00</td>\n      <td>42</td>\n      <td>I405-S</td>\n      <td>16.628</td>\n      <td>40.4</td>\n      <td>CHP</td>\n      <td>South LA</td>\n      <td>I405 S / Artesia Blvd Ofr</td>\n      <td>1182-Trfc Collision-No Inj</td>\n      <td>accident</td>\n      <td>1201931</td>\n      <td>2023-01-03</td>\n      <td>13</td>\n      <td>7</td>\n    </tr>\n    <tr>\n      <th>12</th>\n      <td>21379285</td>\n      <td>2023-01-03 13:03:00</td>\n      <td>74</td>\n      <td>I405-S</td>\n      <td>31.628</td>\n      <td>55.4</td>\n      <td>CHP</td>\n      <td>West LA</td>\n      <td>I405 S / Wilshire Blvd Onr</td>\n      <td>20002-Hit and Run No Injuries</td>\n      <td>accident</td>\n      <td>1201931</td>\n      <td>2023-01-03</td>\n      <td>13</td>\n      <td>7</td>\n    </tr>\n    <tr>\n      <th>...</th>\n      <td>...</td>\n      <td>...</td>\n      <td>...</td>\n      <td>...</td>\n      <td>...</td>\n      <td>...</td>\n      <td>...</td>\n      <td>...</td>\n      <td>...</td>\n      <td>...</td>\n      <td>...</td>\n      <td>...</td>\n      <td>...</td>\n      <td>...</td>\n      <td>...</td>\n    </tr>\n    <tr>\n      <th>472884</th>\n      <td>22073848</td>\n      <td>2023-12-15 01:46:00</td>\n      <td>16</td>\n      <td>I210-W</td>\n      <td>R31.911</td>\n      <td>32.2</td>\n      <td>CHP</td>\n      <td>Altadena</td>\n      <td>I210 W / N Santa Anita Ave</td>\n      <td>CZP-Assist with Construction</td>\n      <td>other</td>\n      <td>826060</td>\n      <td>2023-12-15</td>\n      <td>1</td>\n      <td>8</td>\n    </tr>\n    <tr>\n      <th>472932</th>\n      <td>22075847</td>\n      <td>2023-12-15 23:38:00</td>\n      <td>2</td>\n      <td>I10-W</td>\n      <td>R5.455</td>\n      <td>3.3</td>\n      <td>CHP</td>\n      <td>West LA</td>\n      <td>I10 W / I405 S I10 E Con</td>\n      <td>CZP-Assist with Construction</td>\n      <td>other</td>\n      <td>801230</td>\n      <td>2023-12-15</td>\n      <td>23</td>\n      <td>8</td>\n    </tr>\n    <tr>\n      <th>472971</th>\n      <td>22077807</td>\n      <td>2023-12-17 00:34:00</td>\n      <td>189</td>\n      <td>I210-W</td>\n      <td>R31.911</td>\n      <td>32.2</td>\n      <td>CHP</td>\n      <td>Altadena</td>\n      <td>I210 W / N Santa Anita Ave</td>\n      <td>CZP-Assist with Construction</td>\n      <td>other</td>\n      <td>826060</td>\n      <td>2023-12-17</td>\n      <td>0</td>\n      <td>8</td>\n    </tr>\n    <tr>\n      <th>473475</th>\n      <td>22096736</td>\n      <td>2023-12-26 23:29:00</td>\n      <td>280</td>\n      <td>I10-E</td>\n      <td>17.755</td>\n      <td>15.6</td>\n      <td>CHP</td>\n      <td>Central LA</td>\n      <td>I10 E / Sr60 E</td>\n      <td>CZP-Assist with Construction</td>\n      <td>other</td>\n      <td>759280</td>\n      <td>2023-12-26</td>\n      <td>23</td>\n      <td>8</td>\n    </tr>\n    <tr>\n      <th>473586</th>\n      <td>22100096</td>\n      <td>2023-12-28 23:26:00</td>\n      <td>274</td>\n      <td>I10-E</td>\n      <td>17.955</td>\n      <td>15.8</td>\n      <td>CHP</td>\n      <td>Central LA</td>\n      <td>I10 E I5 N CON / I10 E SR60 E CON</td>\n      <td>CZP-Assist with Construction</td>\n      <td>other</td>\n      <td>759280</td>\n      <td>2023-12-28</td>\n      <td>23</td>\n      <td>8</td>\n    </tr>\n  </tbody>\n</table>\n<p>62271 rows × 15 columns</p>\n</div>"
     },
     "execution_count": 51,
     "metadata": {},
     "output_type": "execute_result"
    }
   ],
   "source": [
    "df_district.groupby(['nearest_node', 'District']).filter(lambda x: len(x) > 3500)"
   ],
   "metadata": {
    "collapsed": false
   }
  },
  {
   "cell_type": "code",
   "execution_count": 41,
   "outputs": [
    {
     "data": {
      "text/plain": "{'Rolling': 0, nan: 1, 'Flat': 2}"
     },
     "execution_count": 41,
     "metadata": {},
     "output_type": "execute_result"
    }
   ],
   "source": [
    "Terrain2id"
   ],
   "metadata": {
    "collapsed": false
   }
  },
  {
   "cell_type": "code",
   "execution_count": null,
   "outputs": [],
   "source": [],
   "metadata": {
    "collapsed": false
   }
  }
 ],
 "metadata": {
  "kernelspec": {
   "display_name": "Python 3",
   "language": "python",
   "name": "python3"
  },
  "language_info": {
   "codemirror_mode": {
    "name": "ipython",
    "version": 2
   },
   "file_extension": ".py",
   "mimetype": "text/x-python",
   "name": "python",
   "nbconvert_exporter": "python",
   "pygments_lexer": "ipython2",
   "version": "2.7.6"
  }
 },
 "nbformat": 4,
 "nbformat_minor": 0
}